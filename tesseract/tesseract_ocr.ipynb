{
  "nbformat": 4,
  "nbformat_minor": 0,
  "metadata": {
    "colab": {
      "provenance": []
    },
    "kernelspec": {
      "name": "python3",
      "display_name": "Python 3"
    },
    "language_info": {
      "name": "python"
    }
  },
  "cells": [
    {
      "cell_type": "markdown",
      "source": [
        "### Tesseract本体とPythonラッパーをインストールします。"
      ],
      "metadata": {
        "id": "RVL1YryR6nrs"
      }
    },
    {
      "cell_type": "code",
      "source": [
        "!sudo apt-get purge tesseract-ocr libtesseract-dev tesseract-ocr-jpn\n",
        "!sudo apt-get install tesseract-ocr libtesseract-dev tesseract-ocr-jpn\n",
        "!pip install pytesseract"
      ],
      "metadata": {
        "id": "MPcrTI69uJOO"
      },
      "execution_count": null,
      "outputs": []
    },
    {
      "cell_type": "markdown",
      "source": [
        "### Githubより、必要なものを一式をダウンロードします。"
      ],
      "metadata": {
        "id": "wD6JQ-_j7esP"
      }
    },
    {
      "cell_type": "code",
      "source": [
        "%cd /content/\n",
        "!git clone https://github.com/MamiTakata/aiocr-test.git\n",
        "%cd /content/aiocr-test"
      ],
      "metadata": {
        "id": "XE5zkvaZu4e8"
      },
      "execution_count": null,
      "outputs": []
    },
    {
      "cell_type": "markdown",
      "source": [
        "### 以下プログラムを実行します。"
      ],
      "metadata": {
        "id": "iMPokCXx7np_"
      }
    },
    {
      "cell_type": "code",
      "execution_count": null,
      "metadata": {
        "id": "appNrIb7uAap"
      },
      "outputs": [],
      "source": [
        "# パッケージをインポート\n",
        "import numpy as np\n",
        "import cv2\n",
        "import  imutils\n",
        "import sys\n",
        "import pytesseract\n",
        "from pytesseract import Output\n",
        "import time\n",
        "import matplotlib.pyplot as plt"
      ]
    },
    {
      "cell_type": "code",
      "source": [
        "# 定数を定義\n",
        "IMAGE_PATH = \"images/car.jpg\""
      ],
      "metadata": {
        "id": "TaHwkFDi72cb"
      },
      "execution_count": null,
      "outputs": []
    },
    {
      "cell_type": "code",
      "source": [
        "# 画像表示用\n",
        "def plt_imshow(title, image):\n",
        "\timage = cv2.cvtColor(image, cv2.COLOR_BGR2RGB)\n",
        "\tplt.imshow(image)\n",
        "\tplt.title(title)\n",
        "\tplt.grid(False)\n",
        "\tplt.show()"
      ],
      "metadata": {
        "id": "DuplQf6QxZRj"
      },
      "execution_count": null,
      "outputs": []
    },
    {
      "cell_type": "code",
      "source": [
        "# 画像読み込みして表示\n",
        "image = cv2.imread(IMAGE_PATH)\n",
        "plt_imshow(\"Original Image\", image)"
      ],
      "metadata": {
        "id": "BAIRs6b4uMyA"
      },
      "execution_count": null,
      "outputs": []
    },
    {
      "cell_type": "code",
      "source": [
        "# Cannyエッジ検出\n",
        "gray = cv2.cvtColor(image, cv2.COLOR_BGR2GRAY)\n",
        "blurred = cv2.GaussianBlur(gray, (5, 5,), 0)\n",
        "edged = cv2.Canny(blurred, 75, 200)\n",
        "plt_imshow(\"Canny Edges Image\", edged)\n",
        "\n",
        "# 輪郭検出\n",
        "contours = cv2.findContours(edged.copy(), cv2.RETR_LIST, cv2.CHAIN_APPROX_SIMPLE)\n",
        "contours = imutils.grab_contours(contours)\n",
        "contours = sorted(contours, key=cv2.contourArea, reverse=True)[:30]"
      ],
      "metadata": {
        "id": "utjJX5XsyUiH"
      },
      "execution_count": null,
      "outputs": []
    },
    {
      "cell_type": "code",
      "source": [
        "# 取得した輪郭から形状の近似を行い長方形を探す（無理やりだがそれをナンバープレートとする）\n",
        "number_contours = None\n",
        "for c in contours:\n",
        "  perimeter = cv2.arcLength(c, True)\n",
        "  approx = cv2.approxPolyDP(c, 0.02 * perimeter, True)\n",
        "  if len(approx) == 4:\n",
        "      number_contours = approx\n",
        "      break\n",
        "\n",
        "print(number_contours)"
      ],
      "metadata": {
        "id": "3BAY8COj84ml"
      },
      "execution_count": null,
      "outputs": []
    },
    {
      "cell_type": "code",
      "source": [
        "# ナンバープレート以外はマスクする\n",
        "if number_contours is not None:\n",
        "  mask = np.zeros(gray.shape,dtype=\"uint8\")\n",
        "  image_plate = cv2.drawContours(mask,[number_contours],0,255,-1)\n",
        "  image_plate = cv2.bitwise_and(gray,gray,mask=mask)\n",
        "  plt_imshow(\"License plate Image\",image_plate)"
      ],
      "metadata": {
        "id": "5YUaeFtd9VcQ"
      },
      "execution_count": null,
      "outputs": []
    },
    {
      "cell_type": "code",
      "source": [
        "\n",
        "\n",
        "# ナンバープレート画像からテキスト検出\n",
        "# config = ('-l jpn --oem 3 --psm 6 -c tessedit_char_whitelist=\"0123456789-あいうえおかきくけこさしすせそたちつてとなにぬねのはひふへほまみむめもやゆよらりるれろわをん\" ')\n",
        "config = ('-l jpn --oem 3 --psm 6  ')\n",
        "text = pytesseract.image_to_string(image_plate, config=config)\n",
        "\n",
        "if text:\n",
        "  print(text)\n",
        "else:\n",
        "  print(\"Could not read license plate.\")"
      ],
      "metadata": {
        "id": "-RzJDEPE9ZgQ"
      },
      "execution_count": null,
      "outputs": []
    }
  ]
}